{
 "cells": [
  {
   "cell_type": "code",
   "execution_count": null,
   "id": "ead0d55a-4674-4437-94d5-4b634210d911",
   "metadata": {},
   "outputs": [],
   "source": [
    "print(hola)"
   ]
  },
  {
   "cell_type": "code",
   "execution_count": null,
   "id": "2500dab9-754a-4d85-8a04-e91028d5651f",
   "metadata": {},
   "outputs": [],
   "source": [
    "import requests\n",
    "from bs4 import BueatifulSoup"
   ]
  },
  {
   "cell_type": "code",
   "execution_count": null,
   "id": "fc264932-c49d-478a-ac09-aeca616eb876",
   "metadata": {},
   "outputs": [],
   "source": [
    "url = https://es.wikipedia.org/wiki/Organización_territorial_de_Guatemala"
   ]
  },
  {
   "cell_type": "code",
   "execution_count": null,
   "id": "93a6eb0d-f640-4b86-a7b3-242aa8eb51ba",
   "metadata": {},
   "outputs": [],
   "source": [
    "response = requests.get(url)"
   ]
  },
  {
   "cell_type": "code",
   "execution_count": null,
   "id": "db6fedc5-c452-495d-8a65-522afadf5d1a",
   "metadata": {},
   "outputs": [],
   "source": [
    "print('status code', url, ':', response.status_code)"
   ]
  }
 ],
 "metadata": {
  "kernelspec": {
   "display_name": "Python 3 (ipykernel)",
   "language": "python",
   "name": "python3"
  },
  "language_info": {
   "codemirror_mode": {
    "name": "ipython",
    "version": 3
   },
   "file_extension": ".py",
   "mimetype": "text/x-python",
   "name": "python",
   "nbconvert_exporter": "python",
   "pygments_lexer": "ipython3",
   "version": "3.10.5"
  }
 },
 "nbformat": 4,
 "nbformat_minor": 5
}
