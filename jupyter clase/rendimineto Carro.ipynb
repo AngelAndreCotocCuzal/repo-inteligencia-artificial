{
 "cells": [
  {
   "cell_type": "code",
   "execution_count": null,
   "id": "f92d7f11-bf73-4678-aaea-e6066307c6e2",
   "metadata": {},
   "outputs": [],
   "source": [
    "import numpy as np\n",
    "import pandas as pd\n",
    "import seaborn as sns\n",
    "import statsmodels.api as sm\n",
    "from scipy import stats\n",
    "\n",
    "# Para medir el rendimiento del carro en millas por galon segun su potencia y su peso\n",
    "auto = sns.load_dataset('mpg')\n",
    "auto.head(5)\n",
    "\n",
    "# calculo de correlacion sobre las variables\n",
    "correlacion = auto.corr(numeric_only = True)\n",
    "\n",
    "# estilizar correlacion\n",
    "correlacion.style.background_gradient(cmap='coolwarm')\n",
    "\n",
    "x = auto['weight']\n",
    "x = sm.add_constant(x)\n",
    "y = auto['mpg']\n",
    "\n",
    "resultado = sm.OLS(y, x).fit()\n",
    "resultado.summary()\n",
    "\n",
    "ax1 = sns.regplot(data = auto, x = 'weight', y = 'mpg')\n",
    "ax1.set_xlabel('Peso')\n",
    "ax1.set_ylabel('Millas por galon (mpg)')\n",
    "ax1.set_title('Relacin peso-mpg')\n",
    "ax1.plot();\n",
    "\n",
    "fig2, ax2 = plt, subplots(figsize=(5,3))\n",
    "sns.boxplot(x = 'origin', y = 'mpg', data = auto)"
   ]
  },
  {
   "cell_type": "code",
   "execution_count": null,
   "id": "965c56a7-e6e6-47ff-bd6d-8d1e956a6ccb",
   "metadata": {},
   "outputs": [],
   "source": []
  },
  {
   "cell_type": "code",
   "execution_count": null,
   "id": "cf921751-abc0-455c-921a-0185b457988d",
   "metadata": {},
   "outputs": [],
   "source": []
  },
  {
   "cell_type": "code",
   "execution_count": null,
   "id": "0c20ef40-2cb1-4019-b149-e4b0a4d92b40",
   "metadata": {},
   "outputs": [],
   "source": [
    "import requests\n",
    "from bs4 import BueatifulSoup"
   ]
  },
  {
   "cell_type": "code",
   "execution_count": null,
   "id": "92c35106-8822-4e55-adf5-f7a1f94d9842",
   "metadata": {},
   "outputs": [],
   "source": [
    "ggg"
   ]
  },
  {
   "cell_type": "code",
   "execution_count": null,
   "id": "c0c3091e-3101-4844-b7f8-b6b620bdfd46",
   "metadata": {},
   "outputs": [],
   "source": []
  },
  {
   "cell_type": "code",
   "execution_count": null,
   "id": "669a88ce-6990-4ea3-b6db-207347971592",
   "metadata": {},
   "outputs": [],
   "source": []
  }
 ],
 "metadata": {
  "kernelspec": {
   "display_name": "Python 3 (ipykernel)",
   "language": "python",
   "name": "python3"
  },
  "language_info": {
   "codemirror_mode": {
    "name": "ipython",
    "version": 3
   },
   "file_extension": ".py",
   "mimetype": "text/x-python",
   "name": "python",
   "nbconvert_exporter": "python",
   "pygments_lexer": "ipython3",
   "version": "3.10.5"
  }
 },
 "nbformat": 4,
 "nbformat_minor": 5
}
